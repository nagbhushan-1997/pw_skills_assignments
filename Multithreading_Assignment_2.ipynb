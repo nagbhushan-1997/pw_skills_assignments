{
  "nbformat": 4,
  "nbformat_minor": 0,
  "metadata": {
    "colab": {
      "provenance": []
    },
    "kernelspec": {
      "name": "python3",
      "display_name": "Python 3"
    },
    "language_info": {
      "name": "python"
    }
  },
  "cells": [
    {
      "cell_type": "markdown",
      "source": [
        "# Mutlithreading Assignment 2\n",
        "# Q1: What is multiprocessing in Python? Why is it useful?\n",
        "Answer: Multiprocessing in Python refers to the ability to run multiple processes independently, allowing for parallel execution of code. It is particularly useful for CPU-bound tasks where the task execution time can be significantly reduced by spreading the load across multiple CPUs or cores. It avoids the Global Interpreter Lock (GIL) that limits threads to one CPU core at a time, thereby exploiting multiple cores for concurrent execution.\n",
        "\n",
        "# Q2: What are the differences between multiprocessing and multithreading?\n",
        "Answer: Multithreading involves multiple threads sharing the same memory space. It's beneficial for I/O-bound tasks but limited by the GIL in Python, which allows only one thread to execute at a time.\n",
        "Multiprocessing involves multiple processes, each with its own Python interpreter and memory space. It's beneficial for CPU-bound tasks and bypasses the GIL, allowing true parallel execution on multi-core systems.\n",
        "\n",
        "# Q3: Write a Python code to create a process using the multiprocessing module.\n"
      ],
      "metadata": {
        "id": "S-pgREjm16dU"
      }
    },
    {
      "cell_type": "code",
      "execution_count": 1,
      "metadata": {
        "colab": {
          "base_uri": "https://localhost:8080/"
        },
        "id": "xw_63Htx110C",
        "outputId": "865ab085-60b5-42a2-c076-cfec21ac139c"
      },
      "outputs": [
        {
          "output_type": "stream",
          "name": "stdout",
          "text": [
            "Hello from a process!\n"
          ]
        }
      ],
      "source": [
        "import multiprocessing\n",
        "\n",
        "def print_hello():\n",
        "    print(\"Hello from a process!\")\n",
        "\n",
        "if __name__ == \"__main__\":\n",
        "    # Create a Process\n",
        "    process = multiprocessing.Process(target=print_hello)\n",
        "    # Start the process\n",
        "    process.start()\n",
        "    # Wait for the process to finish\n",
        "    process.join()"
      ]
    },
    {
      "cell_type": "markdown",
      "source": [
        "# Q4: What is a multiprocessing pool in Python? Why is it used?\n",
        "Answer: A multiprocessing pool in Python is a way to manage multiple worker processes, distributing tasks to them for parallel execution. It simplifies the process of assigning tasks to multiple workers and collecting their results. It's used to manage a fixed number of workers, optimize resource usage, and simplify the code needed to parallelize tasks."
      ],
      "metadata": {
        "id": "g6gAmSRN2ZkW"
      }
    },
    {
      "cell_type": "markdown",
      "source": [
        "# Q5: How can we create a pool of worker processes in Python using the multiprocessing module?\n"
      ],
      "metadata": {
        "id": "wEtBHuAs2haN"
      }
    },
    {
      "cell_type": "code",
      "source": [
        "import multiprocessing\n",
        "\n",
        "def worker(num):\n",
        "    return f\"Worker {num} is working\"\n",
        "\n",
        "if __name__ == \"__main__\":\n",
        "    # Define the number of workers\n",
        "    with multiprocessing.Pool(5) as pool:\n",
        "        results = pool.map(worker, range(5))\n",
        "    print(results)"
      ],
      "metadata": {
        "colab": {
          "base_uri": "https://localhost:8080/"
        },
        "id": "C0-dv_q12Wng",
        "outputId": "cc0fdf3f-e47f-4934-8fc5-68e92a5be295"
      },
      "execution_count": 2,
      "outputs": [
        {
          "output_type": "stream",
          "name": "stdout",
          "text": [
            "['Worker 0 is working', 'Worker 1 is working', 'Worker 2 is working', 'Worker 3 is working', 'Worker 4 is working']\n"
          ]
        }
      ]
    },
    {
      "cell_type": "markdown",
      "source": [
        "# Q6: Write a Python program to create 4 processes, each process should print a different number using the multiprocessing module in Python."
      ],
      "metadata": {
        "id": "lXoUYylj2l1R"
      }
    },
    {
      "cell_type": "code",
      "source": [
        "import multiprocessing\n",
        "\n",
        "def print_number(number):\n",
        "    print(f\"Process {multiprocessing.current_process().name} prints: {number}\")\n",
        "\n",
        "if __name__ == \"__main__\":\n",
        "    processes = []\n",
        "    numbers = [1, 2, 3, 4]  # Numbers each process will print\n",
        "    for number in numbers:\n",
        "        process = multiprocessing.Process(target=print_number, args=(number,))\n",
        "        processes.append(process)\n",
        "        process.start()\n",
        "\n",
        "    for process in processes:\n",
        "        process.join()"
      ],
      "metadata": {
        "id": "FQLt11aD2k78",
        "outputId": "1dc040a9-a1c4-4d23-f2ae-abe55a8e891f",
        "colab": {
          "base_uri": "https://localhost:8080/"
        }
      },
      "execution_count": 3,
      "outputs": [
        {
          "output_type": "stream",
          "name": "stdout",
          "text": [
            "Process Process-7 prints: 1\n",
            "Process Process-8 prints: 2Process Process-9 prints: 3\n",
            "Process Process-10 prints: 4\n",
            "\n"
          ]
        }
      ]
    },
    {
      "cell_type": "code",
      "source": [],
      "metadata": {
        "id": "hgbF1_du2qfp"
      },
      "execution_count": null,
      "outputs": []
    }
  ]
}