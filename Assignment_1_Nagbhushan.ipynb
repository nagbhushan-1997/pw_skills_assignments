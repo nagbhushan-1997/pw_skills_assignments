{
 "cells": [
  {
   "cell_type": "markdown",
   "id": "fbb89eeb-dfd8-4ff8-8d10-b27d2ee85544",
   "metadata": {},
   "source": [
    "Answer for 1st Question"
   ]
  },
  {
   "cell_type": "code",
   "execution_count": 1,
   "id": "8fade141-7f62-45b3-8ae8-afe58bb828ac",
   "metadata": {},
   "outputs": [],
   "source": [
    "a=\"Bhushan\""
   ]
  },
  {
   "cell_type": "code",
   "execution_count": 2,
   "id": "61f2217e-5575-4313-b1ac-56c6796ac6ba",
   "metadata": {},
   "outputs": [],
   "source": [
    "ls=[\"a\",123,43.55]"
   ]
  },
  {
   "cell_type": "code",
   "execution_count": 4,
   "id": "a0206948-355a-4d28-83c5-920035f56d15",
   "metadata": {},
   "outputs": [],
   "source": [
    "flo=123.454\n"
   ]
  },
  {
   "cell_type": "code",
   "execution_count": 5,
   "id": "13bd52ba-4e70-4fbb-9208-4c2e0dd61449",
   "metadata": {},
   "outputs": [],
   "source": [
    "tup=( \"a\", \"abhi\", 343, 456.556)"
   ]
  },
  {
   "cell_type": "markdown",
   "id": "75b4e90d-b137-4c0c-ace0-0e4bbac26982",
   "metadata": {},
   "source": [
    "Answer for 2nd Question"
   ]
  },
  {
   "cell_type": "code",
   "execution_count": 8,
   "id": "b55783f0-b0d1-401e-8537-af676b40cd26",
   "metadata": {},
   "outputs": [
    {
     "data": {
      "text/plain": [
       "str"
      ]
     },
     "execution_count": 8,
     "metadata": {},
     "output_type": "execute_result"
    }
   ],
   "source": [
    "var1 = '' \n",
    "type(var1)"
   ]
  },
  {
   "cell_type": "code",
   "execution_count": 11,
   "id": "80815c22-28b6-487b-857d-6f0cf1c38ba3",
   "metadata": {},
   "outputs": [
    {
     "data": {
      "text/plain": [
       "str"
      ]
     },
     "execution_count": 11,
     "metadata": {},
     "output_type": "execute_result"
    }
   ],
   "source": [
    "var2 = '[ DS , ML , Python]'\n",
    "type(var2)\n"
   ]
  },
  {
   "cell_type": "code",
   "execution_count": 14,
   "id": "35fda275-0b96-4b83-b1ec-779e7035afc7",
   "metadata": {},
   "outputs": [
    {
     "data": {
      "text/plain": [
       "list"
      ]
     },
     "execution_count": 14,
     "metadata": {},
     "output_type": "execute_result"
    }
   ],
   "source": [
    "var3 = [ 'DS' , 'ML' , 'Python']\n",
    "type(var3)"
   ]
  },
  {
   "cell_type": "code",
   "execution_count": 16,
   "id": "16a93cd6-9b4a-4639-ba56-4e83b31969b0",
   "metadata": {},
   "outputs": [
    {
     "data": {
      "text/plain": [
       "int"
      ]
     },
     "execution_count": 16,
     "metadata": {},
     "output_type": "execute_result"
    }
   ],
   "source": [
    "var4=1\n",
    "type(var4)"
   ]
  },
  {
   "cell_type": "markdown",
   "id": "6eca9565-f66a-44b9-ae05-382a9de2e922",
   "metadata": {},
   "source": [
    "Answer for Question 3\n",
    "\n",
    "1./ This operator is used to return the quotient\n",
    "2.% This operator is used to return the reminder\n",
    "3.// used for floor division\n",
    "4.** used to calculate the power of the number like 2**2=4"
   ]
  },
  {
   "cell_type": "code",
   "execution_count": 19,
   "id": "2a98cb98-fe79-4295-887a-27da24d527a1",
   "metadata": {},
   "outputs": [],
   "source": [
    "ls=[ 'abc', 123, 'a', [123, \"anup\", 473.45 ], 'arohi', ('kamal', 909.78 , 678), {\"abhi\", 345.23, 454}, {1:\"sagar\", 2:\"shreya\"}, \"suman\", 100]"
   ]
  },
  {
   "cell_type": "code",
   "execution_count": 20,
   "id": "c0ea954e-788c-40da-ba4c-43cb8a74684b",
   "metadata": {},
   "outputs": [
    {
     "name": "stdout",
     "output_type": "stream",
     "text": [
      "abc\n",
      "123\n",
      "a\n",
      "[123, 'anup', 473.45]\n",
      "arohi\n",
      "('kamal', 909.78, 678)\n",
      "{345.23, 'abhi', 454}\n",
      "{1: 'sagar', 2: 'shreya'}\n",
      "suman\n",
      "100\n"
     ]
    }
   ],
   "source": [
    "for i in ls:\n",
    "    print(i)"
   ]
  },
  {
   "cell_type": "markdown",
   "id": "ac1eabda-d065-4188-b1c9-68f0adfbccd3",
   "metadata": {},
   "source": [
    "Answer for Question 4"
   ]
  },
  {
   "cell_type": "code",
   "execution_count": 3,
   "id": "9711524f-8420-4029-a936-57d796671490",
   "metadata": {},
   "outputs": [
    {
     "name": "stdout",
     "output_type": "stream",
     "text": [
      "1 is divisible by 6 and can be divided 2 times.\n"
     ]
    }
   ],
   "source": [
    "A = 36\n",
    "B = 6\n",
    "\n",
    "count = 0\n",
    "\n",
    "while A % B == 0:\n",
    "    A //= B\n",
    "    count += 1\n",
    "\n",
    "if count > 0:\n",
    "    print(f\"{A} is divisible by {B} and can be divided {count} times.\")\n",
    "else:\n",
    "    print(f\"{A} is not divisible by {B}.\")\n"
   ]
  },
  {
   "cell_type": "markdown",
   "id": "d10af702-8539-4410-94b8-2f20b7915199",
   "metadata": {},
   "source": [
    "Answer for Question 5"
   ]
  },
  {
   "cell_type": "code",
   "execution_count": 4,
   "id": "9f4ff7bd-fc20-43dd-9794-c498585506f0",
   "metadata": {},
   "outputs": [
    {
     "name": "stdout",
     "output_type": "stream",
     "text": [
      "4 is not divisible by 3.\n",
      "9 is divisible by 3.\n",
      "12 is divisible by 3.\n",
      "15 is divisible by 3.\n",
      "22 is not divisible by 3.\n",
      "27 is divisible by 3.\n",
      "33 is divisible by 3.\n",
      "40 is not divisible by 3.\n",
      "43 is not divisible by 3.\n",
      "48 is divisible by 3.\n",
      "51 is divisible by 3.\n",
      "55 is not divisible by 3.\n",
      "60 is divisible by 3.\n",
      "65 is not divisible by 3.\n",
      "70 is not divisible by 3.\n",
      "75 is divisible by 3.\n",
      "80 is not divisible by 3.\n",
      "85 is not divisible by 3.\n",
      "90 is divisible by 3.\n",
      "95 is not divisible by 3.\n",
      "100 is not divisible by 3.\n",
      "105 is divisible by 3.\n",
      "110 is not divisible by 3.\n",
      "115 is not divisible by 3.\n",
      "120 is divisible by 3.\n"
     ]
    }
   ],
   "source": [
    "data = [4, 9, 12, 15, 22, 27, 33, 40, 43, 48, 51, 55, 60, 65, 70, 75, 80, 85, 90, 95, 100, 105, 110, 115, 120]\n",
    "\n",
    "for num in data:\n",
    "    if num % 3 == 0:\n",
    "        print(f\"{num} is divisible by 3.\")\n",
    "    else:\n",
    "        print(f\"{num} is not divisible by 3.\")\n"
   ]
  },
  {
   "cell_type": "markdown",
   "id": "ddcf248f-2b93-4237-9cd8-4c6c1dd05d3f",
   "metadata": {},
   "source": [
    "Answer for Question 5\n",
    "\n",
    "In Python, mutable and immutable are two fundamental properties of data types that determine whether their values can be changed after they are created. Here's a brief explanation of mutable and immutable data types:\n",
    "\n",
    "Mutable Data Types: Mutable data types are those whose values can be modified or changed after they are created. When a mutable object is modified, it is modified in place, meaning the original object is directly updated. Examples of mutable data types in Python include lists, dictionaries, and sets.\n"
   ]
  },
  {
   "cell_type": "code",
   "execution_count": 5,
   "id": "56dc5aeb-ec37-4103-af47-fc714390af64",
   "metadata": {},
   "outputs": [
    {
     "name": "stdout",
     "output_type": "stream",
     "text": [
      "[1, 2, 3]\n",
      "[1, 2, 3, 4]\n",
      "[10, 2, 3, 4]\n"
     ]
    }
   ],
   "source": [
    "# Example of a mutable data type: list\n",
    "my_list = [1, 2, 3]\n",
    "print(my_list)  # Output: [1, 2, 3]\n",
    "\n",
    "my_list.append(4)  # Modifying the list by adding an element\n",
    "print(my_list)  # Output: [1, 2, 3, 4]\n",
    "\n",
    "my_list[0] = 10  # Modifying the list by changing an element\n",
    "print(my_list)  # Output: [10, 2, 3, 4]\n"
   ]
  },
  {
   "cell_type": "markdown",
   "id": "03eedef0-43b3-4a65-b34a-f36fabcc5c4f",
   "metadata": {},
   "source": [
    "In this example, a list my_list is created with initial values [1, 2, 3]. The append() method is used to add the element 4 to the list, modifying it in place. Additionally, the value at index 0 is changed to 10 using assignment, further modifying the list.\n",
    "\n",
    "Immutable Data Types: Immutable data types, on the other hand, are those whose values cannot be modified once they are created. Instead of modifying an immutable object, a new object is created with the modified value. Examples of immutable data types in Python include integers, floats, strings, and tuples."
   ]
  },
  {
   "cell_type": "code",
   "execution_count": 6,
   "id": "2d16424b-aa30-4f51-beb5-28358c4161fb",
   "metadata": {},
   "outputs": [
    {
     "name": "stdout",
     "output_type": "stream",
     "text": [
      "Hello\n",
      "Hello, world!\n",
      "(1, 2, 3)\n"
     ]
    },
    {
     "ename": "TypeError",
     "evalue": "'tuple' object does not support item assignment",
     "output_type": "error",
     "traceback": [
      "\u001b[0;31m---------------------------------------------------------------------------\u001b[0m",
      "\u001b[0;31mTypeError\u001b[0m                                 Traceback (most recent call last)",
      "Cell \u001b[0;32mIn[6], line 13\u001b[0m\n\u001b[1;32m     10\u001b[0m \u001b[38;5;28mprint\u001b[39m(my_tuple)  \u001b[38;5;66;03m# Output: (1, 2, 3)\u001b[39;00m\n\u001b[1;32m     12\u001b[0m \u001b[38;5;66;03m# Attempting to modify the tuple by changing an element\u001b[39;00m\n\u001b[0;32m---> 13\u001b[0m \u001b[43mmy_tuple\u001b[49m\u001b[43m[\u001b[49m\u001b[38;5;241;43m0\u001b[39;49m\u001b[43m]\u001b[49m \u001b[38;5;241m=\u001b[39m \u001b[38;5;241m10\u001b[39m  \u001b[38;5;66;03m# Raises a TypeError: 'tuple' object does not support item assignment\u001b[39;00m\n",
      "\u001b[0;31mTypeError\u001b[0m: 'tuple' object does not support item assignment"
     ]
    }
   ],
   "source": [
    "# Example of an immutable data type: string\n",
    "my_string = \"Hello\"\n",
    "print(my_string)  # Output: Hello\n",
    "\n",
    "my_string += \", world!\"  # Concatenating a string to the original string\n",
    "print(my_string)  # Output: Hello, world!\n",
    "\n",
    "# Example of an immutable data type: tuple\n",
    "my_tuple = (1, 2, 3)\n",
    "print(my_tuple)  # Output: (1, 2, 3)\n",
    "\n",
    "# Attempting to modify the tuple by changing an element\n",
    "my_tuple[0] = 10  # Raises a TypeError: 'tuple' object does not support item assignment\n"
   ]
  },
  {
   "cell_type": "markdown",
   "id": "9e45a94d-d873-464f-a14f-8efd62896be8",
   "metadata": {},
   "source": [
    "In the first part of the example, a string my_string is created with the initial value \"Hello\". The += operator is used to concatenate \", world!\" to the original string, resulting in a new string object \"Hello, world!\".\n",
    "\n",
    "In the second part, a tuple my_tuple is created with initial values (1, 2, 3). When attempting to change an element of the tuple using assignment (my_tuple[0] = 10), a TypeError is raised because tuples are immutable, and their elements cannot be modified.\n",
    "\n",
    "To summarize, mutable data types allow modifications to their values in place, while immutable data types require the creation of new objects with modified values."
   ]
  },
  {
   "cell_type": "code",
   "execution_count": null,
   "id": "e2515448-6b2e-4d2a-860d-d48fa069a37c",
   "metadata": {},
   "outputs": [],
   "source": []
  }
 ],
 "metadata": {
  "kernelspec": {
   "display_name": "Python 3 (ipykernel)",
   "language": "python",
   "name": "python3"
  },
  "language_info": {
   "codemirror_mode": {
    "name": "ipython",
    "version": 3
   },
   "file_extension": ".py",
   "mimetype": "text/x-python",
   "name": "python",
   "nbconvert_exporter": "python",
   "pygments_lexer": "ipython3",
   "version": "3.10.8"
  }
 },
 "nbformat": 4,
 "nbformat_minor": 5
}
