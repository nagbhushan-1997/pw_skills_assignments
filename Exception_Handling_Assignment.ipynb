{
 "cells": [
  {
   "cell_type": "markdown",
   "id": "ea9b0b87-3f8e-4bd8-991c-cc4c519acc0f",
   "metadata": {},
   "source": [
    "# Exception Handling In Python Assignment"
   ]
  },
  {
   "cell_type": "markdown",
   "id": "89a2201e-2126-4dbb-8962-412bacb79947",
   "metadata": {},
   "source": [
    "Q1. What is an Exeption in python? Write the difference between Exeptions and Syntax errors in Python Programming Language"
   ]
  },
  {
   "cell_type": "markdown",
   "id": "c6cfa8d1-1c4d-4072-b713-81c9b54fb24a",
   "metadata": {},
   "source": [
    "In Python, an exception is an event that occurs during the execution of a program and disrupts the normal flow of the program. When an exceptional condition arises, Python raises an exception, which is a signal that something unexpected or problematic has occurred. Exceptions can be caused by various factors, such as invalid input, file not found, division by zero, or trying to access a non-existent variable. Python provides a way to handle these exceptions so that the program can gracefully recover or terminate without crashing.\n",
    "\n",
    "The key difference between exceptions and syntax errors in Python is as follows:\n",
    "\n",
    "1. Exceptions:\n",
    "   - Exceptions are runtime errors that occur when a program is in the execution phase.\n",
    "   - They are raised when a specific problem or exceptional condition occurs during program execution.\n",
    "   - Exceptions can be handled using try-except blocks, allowing you to gracefully deal with errors and continue the program's execution.\n",
    "   - Common examples of exceptions in Python include `ZeroDivisionError`, `FileNotFoundError`, and `IndexError`.\n",
    "\n",
    "2. Syntax Errors:\n",
    "   - Syntax errors are also known as parsing errors, and they occur when the Python interpreter encounters incorrect or invalid Python code.\n",
    "   - They are raised during the parsing phase of the program before any code is executed.\n",
    "   - Syntax errors are typically caused by typos, missing colons, incorrect indentation, or using reserved keywords improperly.\n",
    "   - Code with syntax errors cannot be executed until the errors are fixed.\n",
    "   - Examples of syntax errors include missing or mismatched parentheses, incorrect indentation, and misspelled variable or function names.\n",
    "\n",
    "In summary, exceptions occur during the execution phase and are typically caused by issues related to the program's input or the environment, while syntax errors are detected during the parsing phase and are caused by violations of Python's language rules. Python provides mechanisms to handle exceptions and gracefully recover from them, but code with syntax errors must be corrected before it can run.\n"
   ]
  },
  {
   "cell_type": "markdown",
   "id": "31f58bfd-1597-4b34-8720-30b7ab857bc5",
   "metadata": {},
   "source": [
    "\n",
    "Q2. What happens when an Exception is not handled in Python ? Explain with an example"
   ]
  },
  {
   "cell_type": "markdown",
   "id": "0350e53c-048e-4754-b0f5-7b350609b631",
   "metadata": {},
   "source": [
    "When an exception is not handled in Python, it results in the program terminating abnormally, and an error message or traceback is displayed to the user. This error message provides information about the type of exception, the location where it occurred, and the call stack, which can be helpful for diagnosing and debugging the issue.\n",
    "\n",
    "Here's an example to illustrate what happens when an exception is not handled:\n",
    "\n",
    "```python\n",
    "def divide(a, b):\n",
    "    return a / b\n",
    "\n",
    "try:\n",
    "    result = divide(5, 0)  # Attempting to divide by zero\n",
    "    print(\"Result:\", result)\n",
    "except ZeroDivisionError as e:\n",
    "    print(\"An exception occurred:\", e)\n",
    "\n",
    "print(\"Program continues...\")\n",
    "```\n",
    "\n",
    "In this example, we have a function `divide` that attempts to divide two numbers. However, in the `try` block, we are trying to divide 5 by 0, which is not allowed in Python because it would result in a `ZeroDivisionError`. If this exception is not handled, the program will terminate, and the following output will be displayed:\n",
    "\n",
    "```\n",
    "Traceback (most recent call last):\n",
    "  File \"example.py\", line 4, in <module>\n",
    "    result = divide(5, 0)\n",
    "  File \"example.py\", line 2, in divide\n",
    "    return a / b\n",
    "ZeroDivisionError: division by zero\n",
    "```\n",
    "\n",
    "In this case, Python raises a `ZeroDivisionError` because dividing by zero is mathematically impossible. Since we did not handle this exception, the program terminates abruptly, and the error message indicates the type of exception (`ZeroDivisionError`), the location where it occurred (line 4 in the `try` block), and the call stack.\n",
    "\n",
    "To handle exceptions and prevent the program from terminating in such cases, you can use a `try-except` block, as shown in the code above. This allows you to catch and handle exceptions gracefully, providing an opportunity to log the error, display a user-friendly message, or take other appropriate actions to handle the exceptional condition without causing a program crash."
   ]
  },
  {
   "cell_type": "markdown",
   "id": "d929e54b-3661-4aea-9b7b-bcc87d03b391",
   "metadata": {},
   "source": [
    "Q3 Which python statement is used to handle and catch the python exception? Explain with an example"
   ]
  },
  {
   "cell_type": "markdown",
   "id": "6f8226f7-6b73-47c9-8acd-e2b9606f1d34",
   "metadata": {},
   "source": [
    "In Python, the `try` and `except` statements are used to handle and catch exceptions. The `try` block contains the code that may raise an exception, and the `except` block is where you can specify how to handle the exception if it occurs. Here's the basic syntax of the `try-except` statement:\n",
    "\n",
    "```python\n",
    "try:\n",
    "    # Code that may raise an exception\n",
    "except ExceptionType:\n",
    "    # Code to handle the exception\n",
    "```\n",
    "\n",
    "Here's an example that demonstrates how to use the `try` and `except` statements to catch an exception:\n",
    "\n",
    "```python\n",
    "def divide(a, b):\n",
    "    try:\n",
    "        result = a / b\n",
    "    except ZeroDivisionError as e:\n",
    "        print(\"Error:\", e)\n",
    "        result = None\n",
    "    return result\n",
    "\n",
    "numerator = 10\n",
    "denominator = 0\n",
    "\n",
    "result = divide(numerator, denominator)\n",
    "if result is not None:\n",
    "    print(f\"Result of division: {result}\")\n",
    "else:\n",
    "    print(\"Division by zero is not allowed.\")\n",
    "```\n",
    "\n",
    "In this example, the `divide` function attempts to divide two numbers, `numerator` and `denominator`. Inside the `try` block, the division operation is performed. If the denominator is zero, it would raise a `ZeroDivisionError`. To handle this exception, we use the `except ZeroDivisionError` block. If a `ZeroDivisionError` occurs, it prints an error message and sets the result to `None`. Otherwise, the result is returned normally.\n",
    "\n",
    "When we call `divide(10, 0)`, which would result in division by zero, the program doesn't crash. Instead, the exception is caught and handled within the `except` block, printing the error message \"Error: division by zero.\" The result is set to `None`, and the program continues to execute without terminating abnormally. This allows us to gracefully handle exceptions and provide informative feedback to the user without crashing the program."
   ]
  },
  {
   "cell_type": "markdown",
   "id": "f8740aa7-e198-45b7-8b13-f620883b65b0",
   "metadata": {},
   "source": [
    "Q4 Explain the followings:\n",
    "\n",
    "1.try and else\n",
    "2.finally \n",
    "3.raise"
   ]
  },
  {
   "cell_type": "markdown",
   "id": "ae993ec7-0db6-4fb7-9014-6d74ed67e26c",
   "metadata": {},
   "source": [
    "1. `try` and `else`:\n",
    "   - The `try` and `else` blocks are used in Python to handle exceptions and specify code that should execute when no exceptions occur.\n",
    "   - The `try` block contains the code that may raise an exception.\n",
    "   - The `else` block, which is optional, contains code that should run only if no exceptions were raised in the `try` block.\n",
    "   - If an exception occurs in the `try` block, the code in the `else` block is skipped.\n",
    "\n",
    "   Example:\n",
    "   ```python\n",
    "   try:\n",
    "       result = 10 / 2\n",
    "   except ZeroDivisionError:\n",
    "       print(\"Division by zero is not allowed.\")\n",
    "   else:\n",
    "       print(f\"Result of division: {result}\")\n",
    "   ```\n",
    "\n",
    "   In this example, the division operation in the `try` block does not raise an exception, so the code in the `else` block is executed, and it prints the result.\n",
    "\n",
    "2. `finally`:\n",
    "   - The `finally` block is used in combination with the `try` block to ensure that a specific piece of code always runs, regardless of whether an exception occurs or not.\n",
    "   - The code in the `finally` block is executed after the `try` block and any associated `except` or `else` blocks.\n",
    "   - It is commonly used for cleanup operations, such as closing files, releasing resources, or performing cleanup tasks.\n",
    "\n",
    "   Example:\n",
    "   ```python\n",
    "   try:\n",
    "       file = open(\"example.txt\", \"r\")\n",
    "       content = file.read()\n",
    "   except FileNotFoundError:\n",
    "       print(\"File not found.\")\n",
    "   finally:\n",
    "       if 'file' in locals():\n",
    "           file.close()\n",
    "   ```\n",
    "\n",
    "   In this example, the `try` block attempts to open a file and read its contents. If a `FileNotFoundError` occurs, it's caught and handled in the `except` block. Regardless of whether an exception occurs, the `finally` block ensures that the file is closed, preventing resource leaks.\n",
    "\n",
    "3. `raise`:\n",
    "   - The `raise` statement is used to explicitly raise an exception in Python.\n",
    "   - It allows you to create and raise custom exceptions or re-raise exceptions that have been caught.\n",
    "   - You can provide an exception type and an optional error message when raising an exception.\n",
    "\n",
    "   Example of raising a custom exception:\n",
    "   ```python\n",
    "   class MyCustomError(Exception):\n",
    "       pass\n",
    "\n",
    "   def my_function(value):\n",
    "       if value < 0:\n",
    "           raise MyCustomError(\"Value should be non-negative.\")\n",
    "\n",
    "   try:\n",
    "       my_function(-5)\n",
    "   except MyCustomError as e:\n",
    "       print(f\"Custom error: {e}\")\n",
    "   ```\n",
    "\n",
    "   In this example, a custom exception class `MyCustomError` is defined. The `my_function` raises this custom exception if the input value is negative. When the function is called with `-5`, it raises the custom exception, which is then caught and handled in the `except` block."
   ]
  },
  {
   "cell_type": "markdown",
   "id": "5ea2e6cb-da0c-45dd-971c-34bb09a5494c",
   "metadata": {},
   "source": [
    "Q5,Create the custom exception in python and what do we need that ? explain with example"
   ]
  },
  {
   "cell_type": "markdown",
   "id": "c6132a9a-2d22-4389-a6fa-417fe1e9f7b9",
   "metadata": {},
   "source": [
    "Creating custom exceptions in Python can be useful when you need to handle specific error conditions in your code that are not adequately covered by the built-in exception types. Custom exceptions allow you to provide more meaningful error messages and handle exceptional cases in a way that makes sense for your application. To create a custom exception in Python, you typically define a new exception class by inheriting from the base `Exception` class or one of its subclasses.\n",
    "\n",
    "Here's an example of creating a custom exception class and using it in a function:\n",
    "\n",
    "```python\n",
    "class CustomError(Exception):\n",
    "    def __init__(self, message=\"A custom exception occurred\"):\n",
    "        self.message = message\n",
    "        super().__init__(self.message)\n",
    "\n",
    "def divide(a, b):\n",
    "    if b == 0:\n",
    "        raise CustomError(\"Division by zero is not allowed.\")\n",
    "    return a / b\n",
    "\n",
    "try:\n",
    "    result = divide(10, 0)\n",
    "except CustomError as e:\n",
    "    print(f\"Custom error: {e}\")\n",
    "else:\n",
    "    print(f\"Result of division: {result}\")\n",
    "```\n",
    "\n",
    "In this example, we create a custom exception class named `CustomError` by inheriting from the built-in `Exception` class. The `__init__` method allows us to customize the error message associated with the exception.\n",
    "\n",
    "The `divide` function checks if the denominator is zero and raises our custom exception with a specific error message if it is. When we attempt to divide by zero, a `CustomError` is raised, and we catch it in the `except` block, which then prints the custom error message.\n",
    "\n",
    "Custom exceptions are beneficial because they make your code more readable and maintainable. They allow you to encapsulate and communicate specific error conditions within your codebase, making it easier to understand and handle exceptional situations in a consistent and controlled manner.\n"
   ]
  },
  {
   "cell_type": "markdown",
   "id": "d5816c22-7fae-4b95-9423-602dae7cea86",
   "metadata": {},
   "source": [
    "Q6. Create custom exeption class. Use this ,lss to handle an exeption."
   ]
  },
  {
   "cell_type": "markdown",
   "id": "b0a85f61-5a94-46cb-b6f4-6953d3461264",
   "metadata": {},
   "source": [
    "\n",
    "In this example, we've defined a custom exception class named MyCustomError, which inherits from the base Exception class. The __init__ method allows us to specify a custom error message. The divide function checks if the denominator is zero and raises our custom exception if it is.\n",
    "\n",
    "When we attempt to divide by zero, the MyCustomError exception is raised, and we catch it in the except block, which then prints the custom error message. This demonstrates how you can create and use custom exception classes to handle specific error conditions in your Python code."
   ]
  },
  {
   "cell_type": "code",
   "execution_count": 1,
   "id": "c3c20fa8-f215-4d24-89d0-49c74440db8c",
   "metadata": {},
   "outputs": [
    {
     "name": "stdout",
     "output_type": "stream",
     "text": [
      "Custom error: Division by zero is not allowed.\n"
     ]
    }
   ],
   "source": [
    "\n",
    "class MyCustomError(Exception):\n",
    "    def __init__(self, message=\"A custom exception occurred\"):\n",
    "        self.message = message\n",
    "        super().__init__(self.message)\n",
    "\n",
    "def divide(a, b):\n",
    "    if b == 0:\n",
    "        raise MyCustomError(\"Division by zero is not allowed.\")\n",
    "    return a / b\n",
    "\n",
    "try:\n",
    "    result = divide(10, 0)\n",
    "except MyCustomError as e:\n",
    "    print(f\"Custom error: {e}\")\n",
    "else:\n",
    "    print(f\"Result of division: {result}\")"
   ]
  },
  {
   "cell_type": "code",
   "execution_count": null,
   "id": "8f8a9652-fa8d-4e1b-9b03-a934f46edd6d",
   "metadata": {},
   "outputs": [],
   "source": []
  }
 ],
 "metadata": {
  "kernelspec": {
   "display_name": "Python 3 (ipykernel)",
   "language": "python",
   "name": "python3"
  },
  "language_info": {
   "codemirror_mode": {
    "name": "ipython",
    "version": 3
   },
   "file_extension": ".py",
   "mimetype": "text/x-python",
   "name": "python",
   "nbconvert_exporter": "python",
   "pygments_lexer": "ipython3",
   "version": "3.10.8"
  }
 },
 "nbformat": 4,
 "nbformat_minor": 5
}
