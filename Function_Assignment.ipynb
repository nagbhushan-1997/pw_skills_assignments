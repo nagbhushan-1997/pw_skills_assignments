{
 "cells": [
  {
   "cell_type": "markdown",
   "id": "fee955ab-e0db-4cc0-a12e-beeb42195836",
   "metadata": {},
   "source": [
    "# Function Assignment"
   ]
  },
  {
   "cell_type": "markdown",
   "id": "52ce129b-7ab8-4a4e-8276-49129557cfa1",
   "metadata": {},
   "source": [
    "## Answer for Question 1"
   ]
  },
  {
   "cell_type": "markdown",
   "id": "163cefe7-7216-4e01-8bad-e338f9294651",
   "metadata": {},
   "source": [
    "def is the keyword used to create the function in python."
   ]
  },
  {
   "cell_type": "code",
   "execution_count": 2,
   "id": "85f57e6c-8959-43ac-af1f-191dec3b2df7",
   "metadata": {},
   "outputs": [
    {
     "data": {
      "text/plain": [
       "[1, 3, 5, 7, 9, 11, 13, 15, 17, 19, 21, 23, 25]"
      ]
     },
     "execution_count": 2,
     "metadata": {},
     "output_type": "execute_result"
    }
   ],
   "source": [
    "def odd_numbers():\n",
    "    n=[]\n",
    "    for i in range(1,26):\n",
    "        if i%2!=0:\n",
    "            n.append(i)\n",
    "    return n\n",
    "\n",
    "odd_numbers()\n",
    "    "
   ]
  },
  {
   "cell_type": "markdown",
   "id": "622e630d-8f47-4dd1-a977-98cd948aa4c2",
   "metadata": {},
   "source": [
    "## Answer for Question 2"
   ]
  },
  {
   "cell_type": "markdown",
   "id": "a830352b-40c1-4d79-8530-8a058028c2b4",
   "metadata": {},
   "source": [
    "*args and **kwargs are used to pass the arguments and keyword arguments in to the functions respectively.\n",
    "Example are as below:"
   ]
  },
  {
   "cell_type": "code",
   "execution_count": 19,
   "id": "3db23017-30fd-4b36-8daa-2d36d14dc3d4",
   "metadata": {},
   "outputs": [],
   "source": [
    "def positive_number(*m):\n",
    "    n=[]\n",
    "    for i in m:\n",
    "        if i>0:\n",
    "            n.append(i)\n",
    "    return n\n",
    "            "
   ]
  },
  {
   "cell_type": "code",
   "execution_count": 20,
   "id": "29fffbc1-0c14-4dd0-9972-38677ccc4229",
   "metadata": {},
   "outputs": [
    {
     "data": {
      "text/plain": [
       "[1, 2, 3, 4, 5, 6]"
      ]
     },
     "execution_count": 20,
     "metadata": {},
     "output_type": "execute_result"
    }
   ],
   "source": [
    "positive_number(1, 2, 3, 4, 5, 6, -1, -2, -3, -4)"
   ]
  },
  {
   "cell_type": "code",
   "execution_count": 3,
   "id": "c4a67d94-a762-4541-ba3f-0c0de1edee04",
   "metadata": {},
   "outputs": [
    {
     "name": "stdout",
     "output_type": "stream",
     "text": [
      "<class 'dict'>\n",
      "Name: FemCode\n",
      "Project: Edpresso\n",
      "Number: Two Members\n"
     ]
    }
   ],
   "source": [
    "def team(**details):\n",
    "    print(type(details))\n",
    "    \n",
    "    for key,value in details.items():\n",
    "        print(\"{}: {}\".format(key,value))\n",
    "team(Name = \"FemCode\", Project = \"Edpresso\", Number = \"Two Members\")"
   ]
  },
  {
   "cell_type": "markdown",
   "id": "bd5c05ad-44c8-45e9-9463-bbb2c1464276",
   "metadata": {},
   "source": [
    "## Answer for Question 3"
   ]
  },
  {
   "cell_type": "markdown",
   "id": "89f69973-e92d-44be-b367-c4ac700b29c7",
   "metadata": {},
   "source": [
    "n Python, an iterator is an object that allows traversal or looping over a container, such as a list, tuple, or dictionary. It provides a way to access elements one by one without exposing the underlying implementation details. Iterators are commonly used in loops to iterate over the elements of a collection.\n",
    "\n",
    "To initialize an iterator object in Python, you can use the iter() function. This function takes an iterable as an argument and returns an iterator object.\n",
    "\n",
    "The next() method is used to iterate over the elements of an iterator. It returns the next item from the iterator. By calling next() repeatedly, you can access all the elements of the iterator.\n",
    "\n",
    "Now, let's use these methods to print the first five elements of the given list [2, 4, 6, 8, 10, 12, 14, 16, 18, 20]:"
   ]
  },
  {
   "cell_type": "code",
   "execution_count": 4,
   "id": "4e371978-2927-40c3-913e-4ae246d92bf8",
   "metadata": {},
   "outputs": [
    {
     "name": "stdout",
     "output_type": "stream",
     "text": [
      "2\n",
      "4\n",
      "6\n",
      "8\n",
      "10\n"
     ]
    }
   ],
   "source": [
    "my_list = [2, 4, 6, 8, 10, 12, 14, 16, 18, 20]\n",
    "my_iterator = iter(my_list)\n",
    "\n",
    "for _ in range(5):\n",
    "    element = next(my_iterator)\n",
    "    print(element)"
   ]
  },
  {
   "cell_type": "markdown",
   "id": "136c3adf-be29-4c43-a58e-d9d3f9f8d4a3",
   "metadata": {},
   "source": [
    "This code snippet initializes an iterator object my_iterator using iter(my_list). Then, in the for loop, we call next(my_iterator) five times to retrieve the next element from the iterator and print it."
   ]
  },
  {
   "cell_type": "markdown",
   "id": "155d325f-5dbd-475a-bb94-7a5e37ab2327",
   "metadata": {},
   "source": [
    "## Answer for Question 4"
   ]
  },
  {
   "cell_type": "markdown",
   "id": "dea229ae-fcec-46e3-91c5-392351129536",
   "metadata": {},
   "source": [
    "In Python, a generator function is a special type of function that generates a sequence of values using the yield keyword instead of return. It allows you to create iterators in a more concise and memory-efficient way.\n",
    "\n",
    "A generator function is defined like a normal function, but instead of using the return statement to return a value, it uses the yield statement. When the generator function is called, it returns a generator object that can be iterated over. Each time the yield statement is encountered in the function, it temporarily suspends the function's execution and returns the yielded value. The state of the function is saved, allowing it to resume from where it left off the next time it is called.\n",
    "\n",
    "The yield keyword is used in a generator function to produce a value to the caller while preserving the function's state. Unlike return, which terminates the function and provides a single value, yield allows the function to be paused and resumed, producing a series of values over multiple calls.\n",
    "\n",
    "Here's an example of a generator function that generates a sequence of even numbers:"
   ]
  },
  {
   "cell_type": "code",
   "execution_count": 5,
   "id": "92cbc49e-8410-46a2-b1f2-526fec823705",
   "metadata": {},
   "outputs": [
    {
     "name": "stdout",
     "output_type": "stream",
     "text": [
      "0\n",
      "2\n",
      "4\n",
      "6\n",
      "8\n"
     ]
    }
   ],
   "source": [
    "def even_numbers(n):\n",
    "    for i in range(n):\n",
    "        if i % 2 == 0:\n",
    "            yield i\n",
    "\n",
    "# Using the generator function\n",
    "even_gen = even_numbers(10)\n",
    "\n",
    "for num in even_gen:\n",
    "    print(num)\n"
   ]
  },
  {
   "cell_type": "markdown",
   "id": "85af7a4b-cefd-4ccc-a5ac-0f71bb062f33",
   "metadata": {},
   "source": [
    "In this example, the even_numbers function is a generator function that generates even numbers up to n. It uses a for loop to iterate over the range of n, and whenever an even number is encountered, it yields the number using the yield statement.\n",
    "\n",
    "By calling even_numbers(10), we get a generator object even_gen. We can then iterate over this generator object using a for loop and print each value."
   ]
  },
  {
   "cell_type": "markdown",
   "id": "aae32fde-1b35-4cdc-b04f-e61d006df473",
   "metadata": {},
   "source": [
    "The generator function is able to produce these values on-the-fly, one at a time, without having to store all the values in memory at once. This makes generator functions very memory-efficient, especially when dealing with large or infinite sequences of values."
   ]
  },
  {
   "cell_type": "markdown",
   "id": "8cee7c18-22ae-423d-8691-cac0d31528c0",
   "metadata": {},
   "source": [
    "## Answer For Question 5"
   ]
  },
  {
   "cell_type": "code",
   "execution_count": 9,
   "id": "ccbcf5c8-3d9a-4e8f-9456-61d559d0f0f9",
   "metadata": {},
   "outputs": [
    {
     "name": "stdout",
     "output_type": "stream",
     "text": [
      "2\n",
      "3\n",
      "5\n",
      "7\n",
      "11\n",
      "13\n",
      "17\n",
      "19\n",
      "23\n",
      "29\n",
      "31\n",
      "37\n",
      "41\n",
      "43\n",
      "47\n",
      "53\n",
      "59\n",
      "61\n",
      "67\n",
      "71\n"
     ]
    }
   ],
   "source": [
    "def is_prime(num):\n",
    "    if num < 2:\n",
    "        return False\n",
    "    for i in range(2, int(num ** 0.5) + 1):\n",
    "        if num % i == 0:\n",
    "            return False\n",
    "    return True\n",
    "\n",
    "def primes_generator():\n",
    "    num = 2\n",
    "    while True:\n",
    "        if is_prime(num):\n",
    "            yield num\n",
    "        num += 1\n",
    "\n",
    "prime_gen = primes_generator()\n",
    "\n",
    "for _ in range(20):\n",
    "    prime = next(prime_gen)\n",
    "    print(prime)\n"
   ]
  },
  {
   "cell_type": "code",
   "execution_count": null,
   "id": "c7879789-6285-4998-aeb6-c99dfbd42be0",
   "metadata": {},
   "outputs": [],
   "source": []
  }
 ],
 "metadata": {
  "kernelspec": {
   "display_name": "Python 3 (ipykernel)",
   "language": "python",
   "name": "python3"
  },
  "language_info": {
   "codemirror_mode": {
    "name": "ipython",
    "version": 3
   },
   "file_extension": ".py",
   "mimetype": "text/x-python",
   "name": "python",
   "nbconvert_exporter": "python",
   "pygments_lexer": "ipython3",
   "version": "3.10.8"
  }
 },
 "nbformat": 4,
 "nbformat_minor": 5
}
