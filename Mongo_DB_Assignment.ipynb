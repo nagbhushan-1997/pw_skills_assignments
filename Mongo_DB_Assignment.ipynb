{
  "nbformat": 4,
  "nbformat_minor": 0,
  "metadata": {
    "colab": {
      "provenance": []
    },
    "kernelspec": {
      "name": "python3",
      "display_name": "Python 3"
    },
    "language_info": {
      "name": "python"
    }
  },
  "cells": [
    {
      "cell_type": "markdown",
      "source": [
        "# Q1. What is MongoDB? Explain non-relational databases in short. In which scenarios is it preferred to use MongoDB over SQL databases?\n",
        "MongoDB is a document-oriented NoSQL database used for high volume data storage. Instead of storing data in rows and columns as one would with a relational database, MongoDB stores data in JSON-like documents with dynamic schemas (MongoDB uses a format called BSON), making the integration of data in certain types of applications easier and faster.\n",
        "\n",
        "Non-relational databases (NoSQL databases) are databases that don’t use the traditional table-based relational database structure. They are designed to handle large volumes of data and can be scaled horizontally. They are particularly effective for:\n",
        "\n",
        "Large volumes of structured, semi-structured, and unstructured data\n",
        "Agile sprints, quick iteration, and frequent code pushes\n",
        "Object-oriented programming that is easy to use and flexible\n",
        "Scenarios where rapid development and iterations are more important than strict data integrity\n",
        "MongoDB is preferred over SQL databases in scenarios such as:\n",
        "\n",
        "Big Data Applications\n",
        "Content Management Systems\n",
        "Mobile Apps with evolving data requirements\n",
        "Real-time Analytics and High-Speed Logging\n",
        "Applications requiring a flexible schema and the ability to scale horizontally"
      ],
      "metadata": {
        "id": "dBnuUy0c7QwY"
      }
    },
    {
      "cell_type": "markdown",
      "source": [
        "# Q2. State and Explain the features of MongoDB.\n",
        "Features of MongoDB include:\n",
        "\n",
        "Document-oriented storage: Data is stored in flexible, JSON-like documents where fields can vary from document to document.\n",
        "Full Index Support: It supports array indexing, secondary indexes, and compound indexes.\n",
        "Replication and High Availability: MongoDB uses replica sets to provide high data availability.\n",
        "Auto-Sharding: Automatically splits data across multiple physical servers to support horizontal scaling.\n",
        "Querying: It supports rich queries with document-based queries, projection, aggregation, and more.\n",
        "Aggregation Framework: It allows data processing within the database in multiple stages, enabling transformations and analysis.\n",
        "Capped Collections: Supports fixed-size collections for high-throughput operations.\n",
        "GridFS: Used for storing large binary files such as images and videos."
      ],
      "metadata": {
        "id": "095-bis-7VfV"
      }
    },
    {
      "cell_type": "markdown",
      "source": [
        "# Q3. Write a code to connect MongoDB to Python. Also, create a database and a collection in MongoDB.\n",
        "\n",
        "from pymongo import MongoClient\n",
        "\n",
        "# Create a connection using MongoClient. This connects to the default host and port.\n",
        "client = MongoClient('localhost', 27017)\n",
        "\n",
        "# We can specify the database name directly\n",
        "db = client['example_database']\n",
        "\n",
        "# Create a collection\n",
        "collection = db['example_collection']"
      ],
      "metadata": {
        "id": "GbNPycoF7cBb"
      }
    },
    {
      "cell_type": "markdown",
      "source": [
        "# Q4. Using the database and the collection created in question number 3, write a code to insert one record, and insert many records. Use the find() and find_one() methods to print the inserted record.\n",
        "\n",
        "# Insert one record\n",
        "record = {'name': 'Alice', 'age': 25, 'location': 'New York'}\n",
        "collection.insert_one(record)\n",
        "\n",
        "# Insert many records\n",
        "records = [\n",
        "    {'name': 'Bob', 'age': 30, 'location': 'California'},\n",
        "    {'name': 'Charlie', 'age': 35, 'location': 'London'}\n",
        "]\n",
        "collection.insert_many(records)\n",
        "\n",
        "# Find one document\n",
        "print(collection.find_one())\n",
        "\n",
        "# Find all documents\n",
        "for doc in collection.find():\n",
        "    print(doc)"
      ],
      "metadata": {
        "id": "QqBG_zq67chq"
      }
    },
    {
      "cell_type": "markdown",
      "source": [
        "# Q5. Explain how you can use the find() method to query the MongoDB database. Write a simple code to demonstrate this.\n",
        "\n",
        "The find() method in MongoDB is used to retrieve documents from a collection. It can accept query specifications to filter the documents returned.\n",
        "\n",
        "# Query to find all documents where age is greater than 25\n",
        "for person in collection.find({'age': {'$gt': 25}}):\n",
        "    print(person)"
      ],
      "metadata": {
        "id": "rJdFnQo17nu8"
      }
    },
    {
      "cell_type": "markdown",
      "source": [
        "# Q6. Explain the sort() method. Give an example to demonstrate sorting in MongoDB.\n",
        "\n",
        "The sort() method in MongoDB is used to sort the results of a query. It can take one or more fields with a direction (1 for ascending and -1 for descending) to sort by.\n",
        "\n",
        "# Sort by name in ascending order\n",
        "for person in collection.find().sort('name', 1):\n",
        "    print(person)"
      ],
      "metadata": {
        "id": "rgbt-QW77zlT"
      }
    },
    {
      "cell_type": "markdown",
      "source": [
        "# Q7. Explain why delete_one(), delete_many(), and drop() is used.\n",
        "\n",
        "delete_one(): Removes the first document that matches a query. Useful for removing a single document.\n",
        "\n",
        "\n",
        "---\n",
        "\n",
        "\n",
        "delete_many(): Removes all documents that match a query. Useful for cleaning up data, like removing all test entries.\n",
        "\n",
        "\n",
        "---\n",
        "\n",
        "\n",
        "drop(): Completely removes a collection from the database, which is useful for removing all data and metadata associated with a collection."
      ],
      "metadata": {
        "id": "RSpPRHJP75mh"
      }
    },
    {
      "cell_type": "code",
      "execution_count": null,
      "metadata": {
        "id": "Q1LgHPf667jF"
      },
      "outputs": [],
      "source": []
    }
  ]
}