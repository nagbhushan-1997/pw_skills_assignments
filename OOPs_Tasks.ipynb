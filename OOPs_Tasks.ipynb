{
 "cells": [
  {
   "cell_type": "markdown",
   "id": "18fb8cc1-29d6-4373-a7fe-c51c9871a6e2",
   "metadata": {},
   "source": [
    "# OOP Task\n"
   ]
  },
  {
   "cell_type": "markdown",
   "id": "1b0e4e5e-f637-440a-a08c-3eff25cd8d30",
   "metadata": {},
   "source": [
    "## Q1, Create a vehicle class with an init method having instance variables as name_of_vehicle, max_speed and average_of_vehicle."
   ]
  },
  {
   "cell_type": "code",
   "execution_count": 2,
   "id": "c5d1b7b3-349b-479f-96b5-d306af3ad7a5",
   "metadata": {},
   "outputs": [],
   "source": [
    "class vehicle:\n",
    "    def __init__(self,name_of_vehicle, max_speed, average_of_vehicle):\n",
    "        self.name_of_vehicle=name_of_vehicle\n",
    "        self.max_speed=max_speed\n",
    "        self.average_of_vehicle=average_of_vehicle"
   ]
  },
  {
   "cell_type": "markdown",
   "id": "72f9dcaf-bfd2-467f-9ae2-350340e220d9",
   "metadata": {},
   "source": [
    "## Q2. Create a child class car from the vehicle class created in Que 1, which will inherit the vehicle class.Create a method named seating_capacity which takes capacity as an argument and returns the name of the vehicle and its seating capacity."
   ]
  },
  {
   "cell_type": "code",
   "execution_count": 3,
   "id": "d69b3acf-7176-4a32-bb0d-34dc48c665bc",
   "metadata": {},
   "outputs": [],
   "source": [
    "class car(vehicle):\n",
    "    def seating_capacity(self,capacity):\n",
    "        if capacity<=4:\n",
    "            return capacity, name_of_vehicle"
   ]
  },
  {
   "cell_type": "markdown",
   "id": "e1c33f1c-40d9-4076-b819-e3010a5e7651",
   "metadata": {},
   "source": [
    "## Q3. What is multiple inheritance? Write a python code to demonstrate multiple inheritance."
   ]
  },
  {
   "cell_type": "markdown",
   "id": "8a787070-4db9-4e82-bd31-8df820f52dfd",
   "metadata": {},
   "source": [
    "Multiple Inheritance \n",
    "When a class is derived from more than one base class it is called multiple Inheritance. The derived class inherits all the features of the base case."
   ]
  },
  {
   "cell_type": "code",
   "execution_count": 4,
   "id": "bd2a186f-0d1c-4d26-916a-af2062bdae24",
   "metadata": {},
   "outputs": [
    {
     "name": "stdout",
     "output_type": "stream",
     "text": [
      "In Class2\n"
     ]
    }
   ],
   "source": [
    "# Python Program to depict multiple inheritance\n",
    "# when method is overridden in both classes\n",
    "\n",
    "class Class1:\n",
    "\tdef m(self):\n",
    "\t\tprint(\"In Class1\")\n",
    "\t\n",
    "class Class2(Class1):\n",
    "\tdef m(self):\n",
    "\t\tprint(\"In Class2\")\n",
    "\n",
    "class Class3(Class1):\n",
    "\tdef m(self):\n",
    "\t\tprint(\"In Class3\")\n",
    "\t\t\n",
    "class Class4(Class2, Class3):\n",
    "\tpass\n",
    "\t\n",
    "obj = Class4()\n",
    "obj.m()\n"
   ]
  },
  {
   "cell_type": "markdown",
   "id": "e213a792-7e5a-45c0-b455-13689248d6fa",
   "metadata": {},
   "source": [
    "## Q4. What are getter and setter in python? Create a class and create a getter and a setter method in this class."
   ]
  },
  {
   "cell_type": "markdown",
   "id": "5402ba98-12d5-4735-b72d-b07107414c69",
   "metadata": {},
   "source": [
    "In Python, getters and setters are methods that allow us to access and modify the attributes of a class in a controlled manner. They provide an interface to retrieve and set the values of private attributes, encapsulating them within the class and preventing direct access from outside.\n",
    "\n",
    "Here's an example of a class with a getter and a setter method for an attribute:\n",
    "\n",
    "```python\n",
    "class MyClass:\n",
    "    def __init__(self):\n",
    "        self._my_attribute = None  # private attribute with a default value\n",
    "\n",
    "    def get_my_attribute(self):\n",
    "        return self._my_attribute\n",
    "\n",
    "    def set_my_attribute(self, value):\n",
    "        self._my_attribute = value\n",
    "```\n",
    "\n",
    "In the above code, the class `MyClass` has a private attribute `_my_attribute`, denoted by the single underscore prefix. This naming convention indicates that the attribute should not be accessed directly. Instead, we use getter and setter methods to interact with it.\n",
    "\n",
    "The `get_my_attribute` method is the getter, which simply returns the value of `_my_attribute`. The `set_my_attribute` method is the setter, which takes a parameter `value` and assigns it to `_my_attribute`.\n",
    "\n",
    "Now, let's create an instance of the class and use the getter and setter methods:\n",
    "\n",
    "```python\n",
    "obj = MyClass()\n",
    "print(obj.get_my_attribute())  # Output: None\n",
    "\n",
    "obj.set_my_attribute(\"Hello, World!\")\n",
    "print(obj.get_my_attribute())  # Output: Hello, World!\n",
    "```\n",
    "\n",
    "In the above example, we first create an object `obj` of the `MyClass` class. Initially, the value of `_my_attribute` is `None`. We use the getter method `get_my_attribute()` to retrieve the value, which returns `None` in this case.\n",
    "\n",
    "Then, we use the setter method `set_my_attribute()` to assign the string \"Hello, World!\" to `_my_attribute`. Finally, we use the getter method again to verify that the value has been updated accordingly.\n",
    "\n",
    "Using getters and setters provides an additional layer of abstraction and allows for better control over attribute access and modification within a class."
   ]
  },
  {
   "cell_type": "markdown",
   "id": "4d757180-bf8c-4e00-b3f3-cc271250dab5",
   "metadata": {},
   "source": [
    "## Q5.What is method overriding in python? Write a python code to demonstrate method overriding."
   ]
  },
  {
   "cell_type": "markdown",
   "id": "c8aef192-827d-48fc-b8cd-55ffff3cf66d",
   "metadata": {},
   "source": [
    "Method overriding in Python allows a subclass to provide a different implementation of a method that is already defined in its superclass. It enables the subclass to modify the behavior of the inherited method without changing its name or signature.\n",
    "\n",
    "To demonstrate method overriding, consider the following example:\n",
    "\n",
    "```python\n",
    "class Vehicle:\n",
    "    def start(self):\n",
    "        print(\"The vehicle starts.\")\n",
    "\n",
    "class Car(Vehicle):\n",
    "    def start(self):\n",
    "        print(\"The car starts with a key.\")\n",
    "\n",
    "class Bike(Vehicle):\n",
    "    def start(self):\n",
    "        print(\"The bike starts with a kick.\")\n",
    "\n",
    "# Creating instances and invoking the overridden method\n",
    "vehicle = Vehicle()\n",
    "vehicle.start()  # Output: The vehicle starts.\n",
    "\n",
    "car = Car()\n",
    "car.start()  # Output: The car starts with a key.\n",
    "\n",
    "bike = Bike()\n",
    "bike.start()  # Output: The bike starts with a kick.\n",
    "```\n",
    "\n",
    "In the above code, we have a base class `Vehicle` with a method `start()` that prints a generic statement. The `Car` class is a subclass of `Vehicle` and it overrides the `start()` method to provide a specific implementation for a car starting with a key. Similarly, the `Bike` class is another subclass of `Vehicle` and it overrides the `start()` method to provide a specific implementation for a bike starting with a kick.\n",
    "\n",
    "When we create instances of the subclasses (`Car` and `Bike`) and invoke the `start()` method, the overridden version of the method in each subclass is executed, displaying the specific starting mechanism for that particular type of vehicle.\n",
    "\n",
    "Method overriding is a fundamental feature of object-oriented programming that allows for polymorphism and facilitates the implementation of different behaviors for related classes."
   ]
  },
  {
   "cell_type": "code",
   "execution_count": null,
   "id": "ebe8a36a-dd61-448d-b560-fd90b8de3616",
   "metadata": {},
   "outputs": [],
   "source": []
  }
 ],
 "metadata": {
  "kernelspec": {
   "display_name": "Python 3 (ipykernel)",
   "language": "python",
   "name": "python3"
  },
  "language_info": {
   "codemirror_mode": {
    "name": "ipython",
    "version": 3
   },
   "file_extension": ".py",
   "mimetype": "text/x-python",
   "name": "python",
   "nbconvert_exporter": "python",
   "pygments_lexer": "ipython3",
   "version": "3.10.8"
  }
 },
 "nbformat": 4,
 "nbformat_minor": 5
}
