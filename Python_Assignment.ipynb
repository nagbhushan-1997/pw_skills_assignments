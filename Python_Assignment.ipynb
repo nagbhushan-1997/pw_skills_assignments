{
 "cells": [
  {
   "cell_type": "markdown",
   "id": "e5fd7149-6572-4614-9545-f2977071a57d",
   "metadata": {},
   "source": [
    "# Python Assignment Answers"
   ]
  },
  {
   "cell_type": "markdown",
   "id": "7d096e63-4d97-4486-b9e4-bef2e143b419",
   "metadata": {},
   "source": [
    "Q1. Create a python program to sort the given list of tuples based on integer value using a\n",
    "lambda function."
   ]
  },
  {
   "cell_type": "code",
   "execution_count": 14,
   "id": "9e4fa6c4-26c1-47dc-8670-3fd00924ff25",
   "metadata": {},
   "outputs": [
    {
     "name": "stdout",
     "output_type": "stream",
     "text": [
      "[('Virat Kohli', 24936), ('Jack Kallis', 25534), ('Ricky Ponting', 27483), ('Sachin Tendulkar', 34357)]\n"
     ]
    }
   ],
   "source": [
    "data = [('Sachin Tendulkar', 34357), ('Ricky Ponting', 27483), ('Jack Kallis', 25534), ('Virat Kohli', 24936)]\n",
    "\n",
    "sorted_data = sorted(data, key=lambda x: x[1])\n",
    "print(sorted_data)\n"
   ]
  },
  {
   "cell_type": "markdown",
   "id": "649f87cb-6ea0-43d9-95ec-ec6a0eb05e4a",
   "metadata": {},
   "source": [
    "Q2. Write a Python Program to find the squares of all the numbers in the given list of integers using\n",
    "lambda and map functions."
   ]
  },
  {
   "cell_type": "code",
   "execution_count": 15,
   "id": "4f855760-aaba-413f-9062-eaa599cce459",
   "metadata": {},
   "outputs": [
    {
     "data": {
      "text/plain": [
       "[1, 4, 9, 16, 25, 36, 49, 64, 81, 100]"
      ]
     },
     "execution_count": 15,
     "metadata": {},
     "output_type": "execute_result"
    }
   ],
   "source": [
    "ls=[1, 2, 3, 4, 5, 6, 7, 8, 9, 10]\n",
    "list(map(lambda x:x**2,ls))"
   ]
  },
  {
   "cell_type": "markdown",
   "id": "5d86466d-d013-4d07-b369-83fdc65e4f5f",
   "metadata": {},
   "source": [
    "Q3. Write a python program to convert the given list of integers into a tuple of strings. Use map and\n",
    "lambda functions"
   ]
  },
  {
   "cell_type": "code",
   "execution_count": 17,
   "id": "a95098a5-2fe9-4a1a-b145-29708f1ba633",
   "metadata": {},
   "outputs": [
    {
     "data": {
      "text/plain": [
       "('1', '2', '3', '4', '5', '6', '7', '8', '9', '10')"
      ]
     },
     "execution_count": 17,
     "metadata": {},
     "output_type": "execute_result"
    }
   ],
   "source": [
    "ls2=[1, 2, 3, 4, 5, 6, 7, 8, 9, 10]\n",
    "tuple(map(lambda x:str(x),ls2))"
   ]
  },
  {
   "cell_type": "markdown",
   "id": "2d01fc83-148c-4e57-81b9-d81d868ad86c",
   "metadata": {},
   "source": [
    "Q4. Write a python program using reduce function to compute the product of a list containing numbers\n",
    "from 1 to 25."
   ]
  },
  {
   "cell_type": "code",
   "execution_count": 34,
   "id": "e4a6407a-7436-48cd-b2c6-32aa0cf3c6ab",
   "metadata": {},
   "outputs": [
    {
     "data": {
      "text/plain": [
       "15511210043330985984000000"
      ]
     },
     "execution_count": 34,
     "metadata": {},
     "output_type": "execute_result"
    }
   ],
   "source": [
    "from functools import reduce\n",
    "ls3=[ i for i in range(1,26)]\n",
    "reduce(lambda x,y: x*y,ls3)"
   ]
  },
  {
   "cell_type": "markdown",
   "id": "50d7281c-3e84-4ecb-a576-2e06836cd50d",
   "metadata": {},
   "source": [
    "Q5. Write a python program to filter the numbers in a given list that are divisible by 2 and 3 using the\n",
    "filter function."
   ]
  },
  {
   "cell_type": "code",
   "execution_count": 43,
   "id": "6c82f3f4-49d2-4b85-b542-ac50fe845461",
   "metadata": {},
   "outputs": [
    {
     "data": {
      "text/plain": [
       "[6, 60, 90, 120]"
      ]
     },
     "execution_count": 43,
     "metadata": {},
     "output_type": "execute_result"
    }
   ],
   "source": [
    "ls4=[2, 3, 6, 9, 27, 60, 90, 120, 55, 46]\n",
    "list(filter(lambda f : f%2==0 and f%3==0, ls4) )"
   ]
  },
  {
   "cell_type": "markdown",
   "id": "f9d1849a-faa4-4880-8ada-e600617b973f",
   "metadata": {},
   "source": [
    "Q6. Write a python program to find palindromes in the given list of strings using lambda and filter\n",
    "function."
   ]
  },
  {
   "cell_type": "code",
   "execution_count": 45,
   "id": "34ba116d-0261-4f8a-8606-e44fb404dea0",
   "metadata": {},
   "outputs": [
    {
     "data": {
      "text/plain": [
       "['php', 'aba', 'radar', 'level']"
      ]
     },
     "execution_count": 45,
     "metadata": {},
     "output_type": "execute_result"
    }
   ],
   "source": [
    "ls5=['python', 'php', 'aba', 'radar', 'level']\n",
    "list(filter(lambda d: d[::]==d[::-1], ls5))"
   ]
  },
  {
   "cell_type": "code",
   "execution_count": null,
   "id": "84d5d0bb-b24d-4938-932b-719eadd7636d",
   "metadata": {},
   "outputs": [],
   "source": []
  }
 ],
 "metadata": {
  "kernelspec": {
   "display_name": "Python 3 (ipykernel)",
   "language": "python",
   "name": "python3"
  },
  "language_info": {
   "codemirror_mode": {
    "name": "ipython",
    "version": 3
   },
   "file_extension": ".py",
   "mimetype": "text/x-python",
   "name": "python",
   "nbconvert_exporter": "python",
   "pygments_lexer": "ipython3",
   "version": "3.10.8"
  }
 },
 "nbformat": 4,
 "nbformat_minor": 5
}
