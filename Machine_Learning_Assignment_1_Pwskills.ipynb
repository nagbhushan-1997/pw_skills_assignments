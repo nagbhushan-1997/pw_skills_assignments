{
  "nbformat": 4,
  "nbformat_minor": 0,
  "metadata": {
    "colab": {
      "provenance": []
    },
    "kernelspec": {
      "name": "python3",
      "display_name": "Python 3"
    },
    "language_info": {
      "name": "python"
    }
  },
  "cells": [
    {
      "cell_type": "markdown",
      "source": [
        "# Q1- Explain the Terms:\n",
        "\n",
        "<br>\n",
        "- AI:\n",
        "It is a branch of Computer Science in which we can build a program which can predict the outcome or genrate the outcome depending upon the given input data, build smart intelligent systems depending upon our requirements without any human intervention\n",
        "\n",
        "<br>\n",
        "- ML: It is a branch of AI using which we can predict the outcome, classify the groups using old raw relevent data of the given tasks.\n",
        "<br>\n",
        "\n",
        "<br>\n",
        "- DL: It is a branch of ML using which mimic the human brain and which we can build on Deep learning architectures where we can use Artificial Neural Networks to build the networks."
      ],
      "metadata": {
        "id": "zUhAxksVQ3y4"
      }
    },
    {
      "cell_type": "markdown",
      "source": [
        "# Q2- What is supervised ML? List some of the Examples.\n",
        "<br>\n",
        "Ans: It is a type of ML in which Independent variable Data Is labeled and it can be used to predict the outcome.\n",
        "\n",
        "<br>\n",
        "\n",
        "Examples:\n",
        "<br>\n",
        "Classification\n",
        "<br>\n",
        "Regression"
      ],
      "metadata": {
        "id": "Z6KRRoFTpXoy"
      }
    },
    {
      "cell_type": "markdown",
      "source": [
        "# Q3 : What is Unsupervised Learning? Give me an example."
      ],
      "metadata": {
        "id": "NMZdfqKKq6BR"
      }
    },
    {
      "cell_type": "markdown",
      "source": [
        "# Unsupervised Learning\n",
        "\n",
        "Unsupervised learning is a type of machine learning where algorithms learn from **unlabeled data** without human supervision. Unlike supervised learning, which relies on labeled data, unsupervised learning models discover patterns and insights without explicit guidance or instruction. Here are some key points:\n",
        "\n",
        "## Definition\n",
        "- Unsupervised learning deals with **unlabeled data**.\n",
        "\n",
        "## Objective\n",
        "- The goal is to find patterns and relationships within the data without prior knowledge of its meaning.\n",
        "\n",
        "## Applications\n",
        "1. **Clustering**: Grouping similar data points together.\n",
        "2. **Dimensionality reduction**: Reducing the number of features while preserving relevant information.\n",
        "3. **Anomaly detection**: Identifying unusual or unexpected data points.\n",
        "\n",
        "## Examples\n",
        "- **K-means clustering**: Dividing data into clusters based on similarity.\n",
        "- **Association rule mining**: Discovering relationships between items in transactional data.\n",
        "- **Principal Component Analysis (PCA)**: Reducing dimensions while retaining variance.\n",
        "\n",
        "## Advantages\n",
        "- Works well when labeled data is scarce or unavailable.\n",
        "- Uncovers hidden structures in data.\n",
        "\n",
        "## Disadvantages\n",
        "- Lack of clear evaluation metrics.\n",
        "- Interpretability can be challenging.\n",
        "\n",
        "## Use Case\n",
        "Imagine analyzing customer behavior on an e-commerce website without predefined labels. Unsupervised learning can help identify segments of similar users for targeted marketing.\n"
      ],
      "metadata": {
        "id": "C5Yq_x8pqW1K"
      }
    },
    {
      "cell_type": "markdown",
      "source": [
        "# Q4. What is the difference between AL, ML, DL and DS?"
      ],
      "metadata": {
        "id": "RThTPG5ssJRn"
      }
    },
    {
      "cell_type": "markdown",
      "source": [
        "# Artificial Intelligence (AI)\n",
        "\n",
        "- **Definition**: AI refers to the ability of a digital computer or computer-controlled robot to perform tasks commonly associated with intelligent beings.\n",
        "- **Tasks**: AI systems can understand natural language, recognize patterns, make decisions, interact with an environment, learn from experience, solve problems, and even exhibit creativity.\n",
        "- **Concerns**: While AI has great potential, it’s essential to address biases and limitations to ensure responsible AI practices.\n",
        "\n",
        "# Machine Learning (ML)\n",
        "\n",
        "- **Definition**: ML is a subset of AI that focuses on creating algorithms and models that can learn from data.\n",
        "- **Process**: Instead of explicitly programming a machine, ML algorithms learn from data and adjust their behavior accordingly.\n",
        "- **Examples**: Linear regression, decision trees, Naive Bayes, and K-means clustering are common ML algorithms.\n",
        "\n",
        "# Deep Learning (DL)\n",
        "\n",
        "- **Definition**: DL is a branch of ML based on artificial neural networks.\n",
        "- **Complexity**: DL involves using deep neural networks (with multiple layers) to analyze data and provide outputs.\n",
        "- **Applications**: DL is widely used in image recognition, natural language processing, and other complex tasks.\n",
        "\n",
        "# Data Science (DS)\n",
        "\n",
        "- **Definition**: DS is a data-driven technique that involves extracting knowledge and insights from data.\n",
        "- **Components**: DS includes data cleaning, exploration, visualization, statistical analysis, and predictive modeling.\n",
        "- **Intersections**: While DS is not a subset of AI, it intersects with AI, ML, and DL in various tasks related to data analysis.\n"
      ],
      "metadata": {
        "id": "96qnB0PJsSfs"
      }
    },
    {
      "cell_type": "markdown",
      "source": [
        "# Q5. what are the main difference between Supervised, Un-supervised, Semi-Supervised Learning?"
      ],
      "metadata": {
        "id": "gLHCf0x1ss6n"
      }
    },
    {
      "cell_type": "markdown",
      "source": [
        "# Main Differences Between Supervised, Unsupervised, and Semi-Supervised Learning\n",
        "\n",
        "1. **Supervised Learning**:\n",
        "   - All data is **labeled**.\n",
        "   - Algorithms learn to predict the output from the input data.\n",
        "   - Examples: Decision trees, Support Vector Machines, Linear regression.\n",
        "\n",
        "2. **Unsupervised Learning**:\n",
        "   - All data is **unlabeled**.\n",
        "   - Algorithms learn to extract inherent structure from the input data.\n",
        "   - Examples: K-means clustering, Hierarchical clustering, Principal Component Analysis.\n",
        "\n",
        "3. **Semi-Supervised Learning**:\n",
        "   - A mix of **labeled** and **unlabeled** data.\n",
        "   - Sits between supervised and unsupervised learning.\n",
        "   - Useful when labeled data is scarce.\n",
        "   - Examples: Self-trained Naïve Bayes, Generative adversarial networks.\n",
        "\n",
        "4. **Reinforcement Learning**:\n",
        "   - Feedback-based learning method.\n",
        "   - Based on a system of rewards and punishments for correct and incorrect actions.\n",
        "   - Aim: Maximize reward and improve performance.\n",
        "   - Example: Q-learning, Deep Q Network.\n",
        "\n",
        "## Example Uses:\n",
        "- **Supervised Learning**:\n",
        "  - Image recognition, market prediction.\n",
        "- **Unsupervised Learning**:\n",
        "  - Customer segmentation, anomaly detection.\n",
        "- **Semi-Supervised Learning**:\n",
        "  - Text document classification, speech analysis.\n",
        "- **Reinforcement Learning**:\n",
        "  - Playing games (e.g., chess), self-driving cars.\n",
        "\n",
        "## Challenges:\n",
        "- **Supervised Learning**:\n",
        "  - Pre-processing of data may be time-consuming.\n",
        "  - Requires labeled data.\n",
        "- **Unsupervised Learning**:\n",
        "  - Less accurate predictions compared to supervised learning.\n",
        "  - Cannot handle complex tasks.\n",
        "- **Semi-Supervised Learning**:\n",
        "  - Computationally more complex than supervised learning.\n",
        "  - Not preferable for simple problems.\n"
      ],
      "metadata": {
        "id": "O9e97SsFs4Lm"
      }
    },
    {
      "cell_type": "markdown",
      "source": [
        "# Q6. What is the Train, Test, Validation Split? Explain Each term properly"
      ],
      "metadata": {
        "id": "jAXPNwJqtSQV"
      }
    },
    {
      "cell_type": "markdown",
      "source": [
        "# Train, Test, and Validation Split in Machine Learning\n",
        "\n",
        "1. **Training Data**:\n",
        "   - **Definition**: The portion of the dataset used to train the model.\n",
        "   - **Purpose**: It helps the model learn patterns and relationships from the data.\n",
        "   - **Importance**: Properly chosen training data ensures the model's ability to generalize well.\n",
        "\n",
        "2. **Test Data (Validation Data)**:\n",
        "   - **Definition**: A separate portion of the dataset used to evaluate the model's performance.\n",
        "   - **Purpose**: It assesses how well the model performs on unseen data.\n",
        "   - **Importance**: Test data helps prevent overfitting and provides an estimate of real-world performance.\n",
        "\n",
        "3. **Validation Data**:\n",
        "   - **Definition**: A subset of the training data used during training to tune hyperparameters.\n",
        "   - **Purpose**: It helps optimize the model by fine-tuning parameters.\n",
        "   - **Importance**: Validation data prevents overfitting and guides model selection.\n",
        "\n",
        "## Importance of Each Split:\n",
        "- **Training Data**:\n",
        "  - **Learn Patterns**: Allows the model to learn from labeled examples.\n",
        "  - **Generalization**: Ensures the model can handle unseen data.\n",
        "- **Test Data**:\n",
        "  - **Performance Evaluation**: Measures how well the model performs on new data.\n",
        "  - **Avoid Overfitting**: Validates the model's ability to generalize.\n",
        "- **Validation Data**:\n",
        "  - **Hyperparameter Tuning**: Helps select optimal model settings.\n",
        "  - **Model Selection**: Guides the choice between different models.\n"
      ],
      "metadata": {
        "id": "KomlgSz_taQz"
      }
    },
    {
      "cell_type": "markdown",
      "source": [
        "# Q7. How can we use Unsupervised Learning in Anomaly Detection ?"
      ],
      "metadata": {
        "id": "JkS460E_uBJu"
      }
    },
    {
      "cell_type": "markdown",
      "source": [
        "# Unsupervised Learning in Anomaly Detection\n",
        "\n",
        "Unsupervised learning techniques play a crucial role in detecting anomalies without relying on labeled data. Here are the key points:\n",
        "\n",
        "1. **Objective**:\n",
        "   - Unsupervised anomaly detection aims to identify previously unseen rare objects or events without prior knowledge.\n",
        "   - Anomalies are typically a small percentage (usually less than 1%) of the dataset.\n",
        "\n",
        "2. **Methods**:\n",
        "   - **Modelling Normal Data Distribution**:\n",
        "     - Unsupervised methods focus on understanding the distribution of normal data.\n",
        "     - They learn patterns and relationships within the data without explicit labels.\n",
        "   - **Measurement in Feature Space**:\n",
        "     - Anomaly detection involves defining a measurement in the feature space to classify samples as anomalous or normal.\n",
        "     - High-dimensional data (e.g., images) often require mapping to a more suitable space due to the curse of dimensionality.\n",
        "\n",
        "3. **Common Techniques**:\n",
        "   - **Clustering Algorithms**:\n",
        "     - Grouping similar data points together.\n",
        "     - Examples: K-means, hierarchical clustering.\n",
        "   - **Autoencoders**:\n",
        "     - Neural networks for dimensionality reduction.\n",
        "     - Anomalies lead to reconstruction errors.\n",
        "   - **Isolation Forests**:\n",
        "     - Randomly partitioning data to isolate anomalies.\n",
        "   - **Density-Based Approaches**:\n",
        "     - Identifying regions of low data density.\n",
        "\n",
        "4. **Importance**:\n",
        "   - **Real-World Applications**:\n",
        "     - Fraud detection, network security, fault detection in industrial systems.\n",
        "   - **Handling Unknown Anomalies**:\n",
        "     - Unsupervised methods handle anomalies not seen during training.\n",
        "   - **Scalability**:\n",
        "     - Suitable for large datasets where labeling is impractical.\n",
        "\n",
        "\n"
      ],
      "metadata": {
        "id": "7yB7KWU2uLy5"
      }
    },
    {
      "cell_type": "markdown",
      "source": [
        "# Q8.List the commanly used Supervised and Unsupervised Learning Algorithms."
      ],
      "metadata": {
        "id": "HYd-ReZ2umYj"
      }
    },
    {
      "cell_type": "markdown",
      "source": [
        "# Commonly Used Machine Learning Algorithms\n",
        "\n",
        "## Supervised Learning Algorithms:\n",
        "1. **Linear Regression**: Predicts a continuous output based on input features.\n",
        "2. **Logistic Regression**: Used for binary classification problems.\n",
        "3. **Decision Trees**: Tree-like structures for classification and regression.\n",
        "4. **Random Forest**: Ensemble of decision trees for improved accuracy.\n",
        "5. **Support Vector Machines (SVM)**: Separates data into classes using hyperplanes.\n",
        "6. **K-Nearest Neighbors (K-NN)**: Classifies based on similarity to neighbors.\n",
        "7. **Naive Bayes**: Probabilistic classifier based on Bayes' theorem.\n",
        "\n",
        "## Unsupervised Learning Algorithms:\n",
        "1. **K-Means Clustering**: Groups data points into clusters based on similarity.\n",
        "2. **Hierarchical Clustering**: Creates a hierarchy of clusters.\n",
        "3. **Principal Component Analysis (PCA)**: Reduces dimensionality while preserving variance.\n",
        "4. **Association Rule Mining (Apriori)**: Finds relationships between items in transactional data.\n",
        "5. **DBSCAN (Density-Based Spatial Clustering of Applications with Noise)**: Identifies dense regions in data.\n"
      ],
      "metadata": {
        "id": "u8vTXRdtuvuu"
      }
    },
    {
      "cell_type": "code",
      "execution_count": null,
      "metadata": {
        "id": "gcsnROwtQxrj"
      },
      "outputs": [],
      "source": []
    }
  ]
}