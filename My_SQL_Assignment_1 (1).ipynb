{
  "nbformat": 4,
  "nbformat_minor": 0,
  "metadata": {
    "colab": {
      "provenance": []
    },
    "kernelspec": {
      "name": "python3",
      "display_name": "Python 3"
    },
    "language_info": {
      "name": "python"
    }
  },
  "cells": [
    {
      "cell_type": "markdown",
      "source": [
        "# Q1: What is a database? Differentiate between SQL and NoSQL databases.\n",
        "Database: A database is an organized collection of structured information, or data, typically stored electronically in a computer system. Databases allow users to store, manage, and retrieve data quickly and securely through database management systems (DBMS).\n",
        "SQL vs NoSQL Databases:\n",
        "SQL (Relational) Databases: Use structured query language (SQL) for defining and manipulating data. They are based on a table structure, which involves data being set up in rows and columns. SQL databases are vertically scalable and use a schema to define the structure of data, including tables, fields, and relationships. Examples include MySQL, PostgreSQL, and Oracle.\n",
        "NoSQL (Non-Relational) Databases: Do not use SQL and are built to store and manage data in ways that allow for high operational speed and flexibility on a large scale. They are horizontally scalable and use a variety of data models, including key-value, document, columnar, and graph formats. Examples include MongoDB, Cassandra, and Neo4j.\n",
        "# Q2: What is DDL? Explain why CREATE, DROP, ALTER, and TRUNCATE are used with an example.\n",
        "Answer: Data Definition Language (DDL) consists of the SQL commands that can be used to define the database schema. It primarily includes commands such as CREATE, DROP, ALTER, and TRUNCATE.\n",
        "\n",
        "CREATE: Used to create a new table or database.\n",
        "Example: CREATE TABLE students (id INT, name VARCHAR(50));\n",
        "DROP: Used to delete a table or database.\n",
        "Example: DROP TABLE students;\n",
        "ALTER: Used to modify an existing database structure, such as adding or dropping columns.\n",
        "Example: ALTER TABLE students ADD COLUMN age INT;\n",
        "TRUNCATE: Used to delete all rows in a table without logging the individual row deletions.\n",
        "Example: TRUNCATE TABLE students;"
      ],
      "metadata": {
        "id": "UBAtjlMW3TuB"
      }
    },
    {
      "cell_type": "markdown",
      "source": [
        "# Q3: What is DML? Explain INSERT, UPDATE, and DELETE with an example.\n",
        "\n",
        "Answer: Data Manipulation Language (DML) includes commands that are used to manipulate data in the existing tables.\n",
        "\n",
        "INSERT: Used to insert data into a table.\n",
        "Example: INSERT INTO students (id, name, age) VALUES (1, 'Alice', 21);\n",
        "UPDATE: Used to modify existing data within a table.\n",
        "Example: UPDATE students SET age = 22 WHERE id = 1;\n",
        "DELETE: Used to remove records from a table.\n",
        "Example: DELETE FROM students WHERE id = 1;"
      ],
      "metadata": {
        "id": "2ZQFOKPk3ssh"
      }
    },
    {
      "cell_type": "markdown",
      "source": [
        "# Q4: What is DQL? Explain SELECT with an example.\n",
        "Answer: Data Query Language (DQL) is used to query data from the database. The primary DQL command is SELECT.\n",
        "\n",
        "SELECT: Used to select data from a database. Data returned is stored in a result table, often called the result-set.\n",
        "Example: SELECT name, age FROM students WHERE age > 20;"
      ],
      "metadata": {
        "id": "NiKa1_5K4abf"
      }
    },
    {
      "cell_type": "markdown",
      "source": [
        "# Q5: Explain Primary Key and Foreign Key.\n",
        "Answer:\n",
        "\n",
        "Primary Key: A column or a set of columns that uniquely identifies each row in a table. It must contain unique values, and it cannot contain NULL values.\n",
        "CREATE TABLE students (id INT PRIMARY KEY, name VARCHAR(100));\n",
        "\n",
        "\n",
        "---\n",
        "Foreign Key: A column or set of columns that links one table to another. It is a field in a table that is a primary key in another table. Example: CREATE TABLE enrollments (student_id INT, course_id INT, FOREIGN KEY (student_id) REFERENCES students(id));\n",
        "# Q6: Write a Python code to connect MySQL to Python. Explain the cursor() and execute() method.\n",
        "\n",
        "\n",
        "---\n",
        "\n",
        "import mysql.connector\n",
        "\n",
        "# Connect to MySQL database\n",
        "db = mysql.connector.connect(\n",
        "  host=\"localhost\",\n",
        "  user=\"yourusername\",\n",
        "  password=\"yourpassword\",\n",
        "  database=\"mydatabase\"\n",
        ")\n",
        "\n",
        "# Cursor to execute SQL commands\n",
        "cursor = db.cursor()\n",
        "\n",
        "# Execute a query\n",
        "cursor.execute(\"SELECT * FROM students\")\n",
        "\n",
        "# Fetch results\n",
        "results = cursor.fetchall()\n",
        "for result in results:\n",
        "    print(result)\n",
        "\n",
        "# Close the connection\n",
        "cursor.close()\n",
        "db.close()\n",
        "\n"
      ],
      "metadata": {
        "id": "alWwtYDQ4heu"
      }
    },
    {
      "cell_type": "markdown",
      "source": [
        "Q7. Give the order of execution of SQL clauses in an SQL query.\n",
        "\n",
        "\n",
        "---\n",
        "\n",
        "FROM and JOIN\n",
        "The database first looks at the FROM clause, which specifies the tables to retrieve data from, and any JOIN conditions specified.\n",
        "\n",
        "\n",
        "---\n",
        "\n",
        "\n",
        "WHERE\n",
        "After determining which tables to use and how to join them (if applicable), the database filters the rows according to the conditions specified in the WHERE clause.\n",
        "\n",
        "\n",
        "---\n",
        "\n",
        "\n",
        "GROUP BY\n",
        "If the query includes a GROUP BY clause, SQL groups the rows that have the same values in the specified columns into summary rows after the WHERE conditions are applied.\n",
        "\n",
        "\n",
        "---\n",
        "\n",
        "\n",
        "HAVING\n",
        "This clause is used to filter groups created by the GROUP BY clause. It is processed after the GROUP BY clause.\n",
        "\n",
        "\n",
        "---\n",
        "\n",
        "\n",
        "SELECT\n",
        "The columns listed in the SELECT clause are displayed in the output. This occurs after any possible grouping and filtering.\n",
        "\n",
        "\n",
        "---\n",
        "\n",
        "\n",
        "DISTINCT\n",
        "If specified, duplicates are removed after the SELECT clause has determined which columns to display.\n",
        "\n",
        "\n",
        "---\n",
        "\n",
        "\n",
        "ORDER BY\n",
        "This is one of the last clauses processed. It sorts the final result according to the specified columns. Sorting is done after all the other clauses have defined the result set.\n",
        "\n",
        "\n",
        "---\n",
        "\n",
        "\n",
        "LIMIT / OFFSET\n",
        "Finally, these clauses restrict the number of rows returned by the query. They are applied last to the already sorted or processed result set."
      ],
      "metadata": {
        "id": "Ra5wS7EZ6U1k"
      }
    },
    {
      "cell_type": "code",
      "source": [],
      "metadata": {
        "id": "M06JDu_D5l0E"
      },
      "execution_count": null,
      "outputs": []
    }
  ]
}