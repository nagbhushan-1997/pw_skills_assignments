{
  "nbformat": 4,
  "nbformat_minor": 0,
  "metadata": {
    "colab": {
      "provenance": []
    },
    "kernelspec": {
      "name": "python3",
      "display_name": "Python 3"
    },
    "language_info": {
      "name": "python"
    }
  },
  "cells": [
    {
      "cell_type": "markdown",
      "source": [
        "# Multithreading Assignment\n",
        "\n",
        "# Q1: What is multithreading in Python? Why is it used? Name the module used to handle threads in Python.\n",
        "Answer: Multithreading in Python allows a program to run multiple 'threads' or tasks concurrently. It is used to perform multiple operations simultaneously, improving the efficiency of I/O-bound and high-latency programs. The primary module used to handle threads in Python is the threading module.\n",
        "# Q2: Why is the threading module used? Write the use of the following functions:\n",
        "activeCount() returns the number of thread objects that are active.\n",
        "currentThread() returns the current Thread object, corresponding to the caller's thread of control.\n",
        "enumerate() returns a list of all Thread objects currently alive.\n",
        "Answer: The threading module is used to create, control, and manage threads in Python. It provides a higher-level interface over the lower-level _thread module.\n",
        "\n",
        "# Q3: Explain the following functions:\n",
        "run(): This method is the entry point for a thread. It represents the thread's activity.\n",
        "start(): This method starts a thread by calling the run() method.\n",
        "join(): This method waits for the thread to terminate.\n",
        "isAlive(): Returns True if the thread is alive (i.e., it has started but not yet finished).\n",
        "# Q4: Write a Python program to create two threads. Thread one must print the list of squares and thread two must print the list of cubes.\n",
        "\n"
      ],
      "metadata": {
        "id": "wcIzWjsEyjJc"
      }
    },
    {
      "cell_type": "code",
      "execution_count": 2,
      "metadata": {
        "colab": {
          "base_uri": "https://localhost:8080/"
        },
        "id": "bo9ZJ28gtBke",
        "outputId": "1e7261c1-8bc3-4649-8d7c-854a0522302f"
      },
      "outputs": [
        {
          "output_type": "stream",
          "name": "stdout",
          "text": [
            "Square of 1 is 1Cube of 1 is 1\n",
            "Cube of 2 is 8\n",
            "Cube of 3 is 27\n",
            "Cube of 4 is 64\n",
            "Cube of 5 is 125\n",
            "\n",
            "Square of 2 is 4\n",
            "Square of 3 is 9\n",
            "Square of 4 is 16\n",
            "Square of 5 is 25\n"
          ]
        }
      ],
      "source": [
        "import threading\n",
        "\n",
        "def print_squares():\n",
        "    for i in range(1, 6):\n",
        "        print(f\"Square of {i} is {i*i}\")\n",
        "\n",
        "def print_cubes():\n",
        "    for i in range(1, 6):\n",
        "        print(f\"Cube of {i} is {i*i*i}\")\n",
        "\n",
        "thread1 = threading.Thread(target=print_squares)\n",
        "thread2 = threading.Thread(target=print_cubes)\n",
        "\n",
        "thread1.start()\n",
        "thread2.start()\n",
        "\n",
        "thread1.join()\n",
        "thread2.join()"
      ]
    },
    {
      "cell_type": "markdown",
      "source": [
        "# Q5: State advantages and disadvantages of multithreading.\n",
        "Advantages:\n",
        "\n",
        "Improves application efficiency through parallel execution.\n",
        "Better utilization of CPU resources.\n",
        "Responsive applications by performing lengthy operations in the background.\n",
        "Disadvantages:\n",
        "\n",
        "Complex debugging and testing processes.\n",
        "Potential for deadlock and race conditions if not handled properly.\n",
        "Increased resource consumption (memory and CPU)."
      ],
      "metadata": {
        "id": "BjRTqig9zjDf"
      }
    },
    {
      "cell_type": "markdown",
      "source": [
        "# Q6: Explain deadlocks and race conditions.\n",
        "Answer:\n",
        "\n",
        "Deadlocks occur when two or more threads are waiting for each other to release resources they need, causing all to be stuck.\n",
        "Race conditions happen when the outcome of multiple threads executing depends on the sequence or timing of their execution. These conditions can lead to unpredictable and erroneous behavior if not managed correctly."
      ],
      "metadata": {
        "id": "zc52Bv4qzoIQ"
      }
    }
  ]
}